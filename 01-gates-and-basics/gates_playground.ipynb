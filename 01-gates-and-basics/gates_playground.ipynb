{
 "cells": [
  {
   "cell_type": "markdown",
   "id": "3c671065",
   "metadata": {},
   "source": [
    "Qubit state and Bloch sphere"
   ]
  },
  {
   "cell_type": "code",
   "execution_count": null,
   "id": "0bdd58dc-c188-40fa-b25a-dc9ba83ab277",
   "metadata": {},
   "outputs": [
    {
     "data": {
      "text/latex": [
       "$$ |0\\rangle$$"
      ],
      "text/plain": [
       "<IPython.core.display.Latex object>"
      ]
     },
     "execution_count": 11,
     "metadata": {},
     "output_type": "execute_result"
    }
   ],
   "source": [
    "# Import the QuantumCircuit class from Qiskit — this lets us build and visualize quantum circuits\n",
    "from qiskit import QuantumCircuit\n",
    "# Import to visualize quantum states on the Bloch sphere (for ONLY single qubits)\n",
    "from qiskit.visualization import plot_bloch_vector\n",
    "# Import Statevector — a way to represent the state of a quantum system mathematically\n",
    "from qiskit.quantum_info import Statevector\n",
    "\n",
    "# Create a new quantum circuit with 1 qubit\n",
    "qc = QuantumCircuit(1)\n",
    "# Simulate what the quantum state would be *after* running this circuit (which currently does nothing)\n",
    "# Since no gates are applied, the qubit stays in the default |0⟩ state\n",
    "state = Statevector.from_instruction(qc)\n",
    "# Visually repersents the Qubit in the |0⟩ state on the 'bloch' sphere\n",
    "state.draw('latex')"
   ]
  }
 ],
 "metadata": {
  "kernelspec": {
   "display_name": "Python (qiskit-env)",
   "language": "python",
   "name": "qiskit-env"
  },
  "language_info": {
   "codemirror_mode": {
    "name": "ipython",
    "version": 3
   },
   "file_extension": ".py",
   "mimetype": "text/x-python",
   "name": "python",
   "nbconvert_exporter": "python",
   "pygments_lexer": "ipython3",
   "version": "3.12.10"
  }
 },
 "nbformat": 4,
 "nbformat_minor": 5
}
